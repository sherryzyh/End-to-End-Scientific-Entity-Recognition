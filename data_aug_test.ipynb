{
 "cells": [
  {
   "cell_type": "markdown",
   "metadata": {},
   "source": [
    "## Open AI Test"
   ]
  },
  {
   "cell_type": "markdown",
   "metadata": {},
   "source": [
    "Try to use the OpenAI to parapharase the sentence."
   ]
  },
  {
   "cell_type": "code",
   "execution_count": 1,
   "metadata": {},
   "outputs": [],
   "source": [
    "import os\n",
    "import openai\n",
    "from dotenv import load_dotenv\n",
    "\n",
    "load_dotenv()\n",
    "openai.api_key = os.getenv(\"OPENAI_API_KEY\")\n",
    "response = openai.Completion.create(\n",
    "  model=\"text-davinci-002\",\n",
    "  prompt=\"Paraphrase the following sentence: 2018 Association for Computational Linguistics1Privacy - preserving Neural Representations of.\",\n",
    "  temperature=0.7,\n",
    "  max_tokens=256,\n",
    "  top_p=1,\n",
    "  frequency_penalty=0,\n",
    "  presence_penalty=0\n",
    ")"
   ]
  },
  {
   "cell_type": "markdown",
   "metadata": {},
   "source": [
    "Print the result."
   ]
  },
  {
   "cell_type": "code",
   "execution_count": 2,
   "metadata": {},
   "outputs": [
    {
     "name": "stdout",
     "output_type": "stream",
     "text": [
      "{\n",
      "  \"choices\": [\n",
      "    {\n",
      "      \"finish_reason\": \"stop\",\n",
      "      \"index\": 0,\n",
      "      \"logprobs\": null,\n",
      "      \"text\": \"\\n\\nThe Association for Computational Linguistics is dedicated to preserving the privacy of neural representations in 2018.\"\n",
      "    }\n",
      "  ],\n",
      "  \"created\": 1666159667,\n",
      "  \"id\": \"cmpl-62wWx4tIF9PUuiKg9aYILf4r5RjR1\",\n",
      "  \"model\": \"text-davinci-002\",\n",
      "  \"object\": \"text_completion\",\n",
      "  \"usage\": {\n",
      "    \"completion_tokens\": 22,\n",
      "    \"prompt_tokens\": 24,\n",
      "    \"total_tokens\": 46\n",
      "  }\n",
      "}\n"
     ]
    }
   ],
   "source": [
    "print(response)"
   ]
  },
  {
   "cell_type": "markdown",
   "metadata": {},
   "source": [
    "Extract the text result from the json result."
   ]
  },
  {
   "cell_type": "code",
   "execution_count": 4,
   "metadata": {},
   "outputs": [
    {
     "name": "stdout",
     "output_type": "stream",
     "text": [
      "The Association for Computational Linguistics is dedicated to preserving the privacy of neural representations in 2018.\n"
     ]
    }
   ],
   "source": [
    "import json\n",
    "from openapi_schema_to_json_schema import to_json_schema\n",
    "response_json = to_json_schema(response)\n",
    "print(response_json.get(\"choices\")[0].get(\"text\").strip())"
   ]
  },
  {
   "cell_type": "markdown",
   "metadata": {},
   "source": [
    "## Final Driver"
   ]
  },
  {
   "cell_type": "code",
   "execution_count": 6,
   "metadata": {},
   "outputs": [],
   "source": [
    "import annotated_data_augmenter as adg\n",
    "ADG = adg.AnnotatedDataAug()"
   ]
  },
  {
   "cell_type": "markdown",
   "metadata": {},
   "source": [
    "Augment all the data lying in `Annotated_Data/annotated_paper`. The api rate limiter is configured as 30 requests / minutes, and the function will make sure we won't augment the file with same name twice."
   ]
  },
  {
   "cell_type": "code",
   "execution_count": 7,
   "metadata": {},
   "outputs": [
    {
     "name": "stdout",
     "output_type": "stream",
     "text": [
      "Already augemented files: {'aug_annotated_2018_emnlp_Privacy-preserving Neural Representations of Text.txt'}\n",
      "Total Augmented File Cnt: 0\n",
      "Augmenting aug_annotated_2022_acl_UniTranSeR A Unified Transformer Semantic Representation Framework for Multimodal Task-Oriented Dialog System.txt...\n",
      "Paraphrase and relabelling from OpenAI...\n"
     ]
    },
    {
     "ename": "IndexError",
     "evalue": "list index out of range",
     "output_type": "error",
     "traceback": [
      "\u001b[0;31m---------------------------------------------------------------------------\u001b[0m",
      "\u001b[0;31mIndexError\u001b[0m                                Traceback (most recent call last)",
      "Cell \u001b[0;32mIn [7], line 1\u001b[0m\n\u001b[0;32m----> 1\u001b[0m \u001b[43mADG\u001b[49m\u001b[38;5;241;43m.\u001b[39;49m\u001b[43mdata_aug\u001b[49m\u001b[43m(\u001b[49m\u001b[43m)\u001b[49m\n",
      "File \u001b[0;32m~/Desktop/2022_fall/nlp/End-to-End-Scientific-Entity-Recognition/annotated_data_augmenter.py:98\u001b[0m, in \u001b[0;36mAnnotatedDataAug.data_aug\u001b[0;34m(self, raw_dir, aug_dir)\u001b[0m\n\u001b[1;32m     95\u001b[0m     \u001b[39mcontinue\u001b[39;00m\n\u001b[1;32m     97\u001b[0m \u001b[39mprint\u001b[39m(\u001b[39mf\u001b[39m\u001b[39m\"\u001b[39m\u001b[39mParaphrase and relabelling from OpenAI...\u001b[39m\u001b[39m\"\u001b[39m)\n\u001b[0;32m---> 98\u001b[0m sentences, sentenceIdx_to_tokenLabelDict \u001b[39m=\u001b[39m \u001b[39mself\u001b[39;49m\u001b[39m.\u001b[39;49mrecover_and_label(raw_dir \u001b[39m+\u001b[39;49m file)\n\u001b[1;32m     99\u001b[0m paraphrased_result_lines \u001b[39m=\u001b[39m \u001b[39mself\u001b[39m\u001b[39m.\u001b[39mparapharase_and_relabel(sentences, sentenceIdx_to_tokenLabelDict)\n\u001b[1;32m    101\u001b[0m \u001b[39mprint\u001b[39m(\u001b[39mf\u001b[39m\u001b[39m\"\u001b[39m\u001b[39mWrite the result to file...\u001b[39m\u001b[39m\"\u001b[39m)\n",
      "File \u001b[0;32m~/Desktop/2022_fall/nlp/End-to-End-Scientific-Entity-Recognition/annotated_data_augmenter.py:46\u001b[0m, in \u001b[0;36mAnnotatedDataAug.recover_and_label\u001b[0;34m(self, annotated_tokenized_paper)\u001b[0m\n\u001b[1;32m     42\u001b[0m \u001b[39mfor\u001b[39;00m idx, token_label \u001b[39min\u001b[39;00m \u001b[39menumerate\u001b[39m(lines):\n\u001b[1;32m     43\u001b[0m     \u001b[39mif\u001b[39;00m token_label \u001b[39m==\u001b[39m \u001b[39m\"\u001b[39m\u001b[39m\\n\u001b[39;00m\u001b[39m\"\u001b[39m:\n\u001b[1;32m     44\u001b[0m         \u001b[39m# if split point\u001b[39;00m\n\u001b[1;32m     45\u001b[0m         \u001b[39m# add the period \".\" manually (always make sure there is a period at the end)\u001b[39;00m\n\u001b[0;32m---> 46\u001b[0m         \u001b[39mif\u001b[39;00m cur_sentence[\u001b[39m-\u001b[39;49m\u001b[39m1\u001b[39;49m] \u001b[39m!=\u001b[39m \u001b[39m\"\u001b[39m\u001b[39m.\u001b[39m\u001b[39m\"\u001b[39m:\n\u001b[1;32m     47\u001b[0m             cur_sentence\u001b[39m.\u001b[39mappend(\u001b[39m\"\u001b[39m\u001b[39m.\u001b[39m\u001b[39m\"\u001b[39m)\n\u001b[1;32m     48\u001b[0m         sentences\u001b[39m.\u001b[39mappend(\u001b[39m\"\u001b[39m\u001b[39m \u001b[39m\u001b[39m\"\u001b[39m\u001b[39m.\u001b[39mjoin(cur_sentence))\n",
      "\u001b[0;31mIndexError\u001b[0m: list index out of range"
     ]
    }
   ],
   "source": [
    "ADG.data_aug()"
   ]
  }
 ],
 "metadata": {
  "kernelspec": {
   "display_name": "Python 3.8.13 ('cmu-11711')",
   "language": "python",
   "name": "python3"
  },
  "language_info": {
   "codemirror_mode": {
    "name": "ipython",
    "version": 3
   },
   "file_extension": ".py",
   "mimetype": "text/x-python",
   "name": "python",
   "nbconvert_exporter": "python",
   "pygments_lexer": "ipython3",
   "version": "3.8.13"
  },
  "orig_nbformat": 4,
  "vscode": {
   "interpreter": {
    "hash": "b3cc27bd2b0cc244489d64415057549f3bf07f3859f5feb365772e94fdd42b37"
   }
  }
 },
 "nbformat": 4,
 "nbformat_minor": 2
}
