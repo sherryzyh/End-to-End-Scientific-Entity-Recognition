{
 "cells": [
  {
   "cell_type": "markdown",
   "metadata": {},
   "source": [
    "## Open AI Test"
   ]
  },
  {
   "cell_type": "markdown",
   "metadata": {},
   "source": [
    "Try to use the OpenAI to parapharase the sentence."
   ]
  },
  {
   "cell_type": "code",
   "execution_count": null,
   "metadata": {},
   "outputs": [],
   "source": [
    "import os\n",
    "import openai\n",
    "from dotenv import load_dotenv\n",
    "\n",
    "load_dotenv()\n",
    "openai.api_key = os.getenv(\"OPENAI_API_KEY\")\n",
    "response = openai.Completion.create(\n",
    "  model=\"text-davinci-002\",\n",
    "  prompt=\"Paraphrase the following sentence: 2018 Association for Computational Linguistics1Privacy - preserving Neural Representations of.\",\n",
    "  temperature=0.7,\n",
    "  max_tokens=256,\n",
    "  top_p=1,\n",
    "  frequency_penalty=0,\n",
    "  presence_penalty=0\n",
    ")"
   ]
  },
  {
   "cell_type": "markdown",
   "metadata": {},
   "source": [
    "Print the result."
   ]
  },
  {
   "cell_type": "code",
   "execution_count": null,
   "metadata": {},
   "outputs": [],
   "source": [
    "print(response)"
   ]
  },
  {
   "cell_type": "markdown",
   "metadata": {},
   "source": [
    "Extract the text result from the json result."
   ]
  },
  {
   "cell_type": "code",
   "execution_count": null,
   "metadata": {},
   "outputs": [],
   "source": [
    "import json\n",
    "from openapi_schema_to_json_schema import to_json_schema\n",
    "response_json = to_json_schema(response)\n",
    "print(response_json.get(\"choices\")[0].get(\"text\").strip())"
   ]
  },
  {
   "cell_type": "markdown",
   "metadata": {},
   "source": [
    "## Final Driver"
   ]
  },
  {
   "cell_type": "code",
   "execution_count": 1,
   "metadata": {},
   "outputs": [],
   "source": [
    "import annotated_data_augmenter as adg\n",
    "ADG = adg.AnnotatedDataAug()"
   ]
  },
  {
   "cell_type": "markdown",
   "metadata": {},
   "source": [
    "Augment all the data lying in `Annotated_Data/annotated_paper`. The api rate limiter is configured as 30 requests / minutes, and the function will make sure we won't augment the file with same name twice."
   ]
  },
  {
   "cell_type": "code",
   "execution_count": 2,
   "metadata": {},
   "outputs": [
    {
     "name": "stdout",
     "output_type": "stream",
     "text": [
      "Already augemented files: {'aug_cleaned_annotated_2018_acl_Probabilistic FastText for Multi-Sense Word Embeddings.txt', 'aug_cleaned_annotated_2020_emnlp_Unsupervised stance detection for arguments from consequences.txt', 'aug_cleaned_annotated_2022_acl_UniTranSeR A Unified Transformer Semantic Representation Framework for Multimodal Task-Oriented Dialog System.txt', 'aug_cleaned_annotated_2019_naacl_BERT Pre-training of Deep Bidirectional Transformers for Language Understanding.txt', 'aug_cleaned_annotated_2019_naacl_The emergence of number and syntax units in LSTM language models.txt', 'aug_cleaned_annotated_2021_naacl_Mediators in Determining what Processing BERT Performs First.txt', 'aug_cleaned_annotated_2018_emnlp_Privacy-preserving Neural Representations of Text.txt', 'aug_cleaned_annotated_2021_acl_DeepRapper Neural Rap Generation with Rhyme and Rhythm Modeling.txt', 'aug_cleaned_annotated_2015_acl_Addressing the Rare Word Problem in Neural Machine Translation.txt', 'aug_cleaned_annotated_2018_naacl_A Deep Generative Model of Vowel Formant Typology.txt', 'aug_cleaned_annotated_2017_acl_Neural Relation Extraction with Multi-lingual Attention.txt', 'aug_cleaned_annotated_2022_naacl_Language Model Augmented Monotonic Attention for Simultaneous Translation.txt', '.DS_Store', 'aug_cleaned_annotated_2021_emnlp_Zero-Shot Cross-Lingual Transfer of Neural Machine Translation with Multilingual Pretrained Encoders.txt'}\n",
      "Total Augmented File Cnt: 0\n",
      "Augmenting aug_cleaned_annotated_2019_naacl_The emergence of number and syntax units in LSTM language models.txt...\n",
      "Already Parsed, Skip the annotated paper cleaned_annotated_2019_naacl_The emergence of number and syntax units in LSTM language models.txt\n",
      "Total Augmented File Cnt: 0\n",
      "Augmenting aug_cleaned_annotated_2022_naacl_Language Model Augmented Monotonic Attention for Simultaneous Translation.txt...\n",
      "Already Parsed, Skip the annotated paper cleaned_annotated_2022_naacl_Language Model Augmented Monotonic Attention for Simultaneous Translation.txt\n",
      "Total Augmented File Cnt: 0\n",
      "Augmenting aug_cleaned_annotated_2021_naacl_Mediators in Determining what Processing BERT Performs First.txt...\n",
      "Already Parsed, Skip the annotated paper cleaned_annotated_2021_naacl_Mediators in Determining what Processing BERT Performs First.txt\n",
      "Total Augmented File Cnt: 0\n",
      "Augmenting aug_cleaned_annotated_2019_naacl_BERT Pre-training of Deep Bidirectional Transformers for Language Understanding.txt...\n",
      "Already Parsed, Skip the annotated paper cleaned_annotated_2019_naacl_BERT Pre-training of Deep Bidirectional Transformers for Language Understanding.txt\n",
      "Total Augmented File Cnt: 0\n",
      "Augmenting aug_cleaned_annotated_2015_acl_Addressing the Rare Word Problem in Neural Machine Translation.txt...\n",
      "Already Parsed, Skip the annotated paper cleaned_annotated_2015_acl_Addressing the Rare Word Problem in Neural Machine Translation.txt\n",
      "Total Augmented File Cnt: 0\n",
      "Augmenting aug_cleaned_annotated_2021_emnlp_Zero-Shot Cross-Lingual Transfer of Neural Machine Translation with Multilingual Pretrained Encoders.txt...\n",
      "Already Parsed, Skip the annotated paper cleaned_annotated_2021_emnlp_Zero-Shot Cross-Lingual Transfer of Neural Machine Translation with Multilingual Pretrained Encoders.txt\n",
      "Total Augmented File Cnt: 0\n",
      "Augmenting aug_cleaned_annotated_2018_naacl_A Deep Generative Model of Vowel Formant Typology.txt...\n",
      "Already Parsed, Skip the annotated paper cleaned_annotated_2018_naacl_A Deep Generative Model of Vowel Formant Typology.txt\n",
      "Total Augmented File Cnt: 0\n",
      "Augmenting aug_cleaned_annotated_2018_emnlp_Privacy-preserving Neural Representations of Text.txt...\n",
      "Already Parsed, Skip the annotated paper cleaned_annotated_2018_emnlp_Privacy-preserving Neural Representations of Text.txt\n",
      "Total Augmented File Cnt: 0\n",
      "Augmenting aug_cleaned_annotated_2017_acl_Neural Relation Extraction with Multi-lingual Attention.txt...\n",
      "Already Parsed, Skip the annotated paper cleaned_annotated_2017_acl_Neural Relation Extraction with Multi-lingual Attention.txt\n",
      "Total Augmented File Cnt: 0\n",
      "Augmenting aug_cleaned_annotated_2020_emnlp_Unsupervised stance detection for arguments from consequences.txt...\n",
      "Already Parsed, Skip the annotated paper cleaned_annotated_2020_emnlp_Unsupervised stance detection for arguments from consequences.txt\n",
      "Total Augmented File Cnt: 0\n",
      "Augmenting aug_cleaned_annotated_2022_acl_UniTranSeR A Unified Transformer Semantic Representation Framework for Multimodal Task-Oriented Dialog System.txt...\n",
      "Already Parsed, Skip the annotated paper cleaned_annotated_2022_acl_UniTranSeR A Unified Transformer Semantic Representation Framework for Multimodal Task-Oriented Dialog System.txt\n",
      "Total Augmented File Cnt: 0\n",
      "Augmenting aug_cleaned_annotated_2021_emnlp_AligNART Non-autoregressive Neural Machine Translation by Jointly Learning to Estimate Alignment and Translate.txt...\n",
      "Paraphrase and relabelling from OpenAI...\n",
      "Write the result to file...\n",
      "Total Augmented File Cnt: 0\n",
      "Augmenting aug_cleaned_annotated_2018_acl_Probabilistic FastText for Multi-Sense Word Embeddings.txt...\n",
      "Already Parsed, Skip the annotated paper cleaned_annotated_2018_acl_Probabilistic FastText for Multi-Sense Word Embeddings.txt\n",
      "Total Augmented File Cnt: 0\n",
      "Augmenting aug_cleaned_annotated_2021_acl_DeepRapper Neural Rap Generation with Rhyme and Rhythm Modeling.txt...\n",
      "Already Parsed, Skip the annotated paper cleaned_annotated_2021_acl_DeepRapper Neural Rap Generation with Rhyme and Rhythm Modeling.txt\n"
     ]
    }
   ],
   "source": [
    "ADG.data_aug()"
   ]
  },
  {
   "cell_type": "code",
   "execution_count": null,
   "metadata": {},
   "outputs": [],
   "source": []
  },
  {
   "cell_type": "markdown",
   "metadata": {},
   "source": []
  }
 ],
 "metadata": {
  "kernelspec": {
   "display_name": "Python 3.8.13 ('cmu-11711')",
   "language": "python",
   "name": "python3"
  },
  "language_info": {
   "codemirror_mode": {
    "name": "ipython",
    "version": 3
   },
   "file_extension": ".py",
   "mimetype": "text/x-python",
   "name": "python",
   "nbconvert_exporter": "python",
   "pygments_lexer": "ipython3",
   "version": "3.8.13"
  },
  "orig_nbformat": 4,
  "vscode": {
   "interpreter": {
    "hash": "b3cc27bd2b0cc244489d64415057549f3bf07f3859f5feb365772e94fdd42b37"
   }
  }
 },
 "nbformat": 4,
 "nbformat_minor": 2
}
