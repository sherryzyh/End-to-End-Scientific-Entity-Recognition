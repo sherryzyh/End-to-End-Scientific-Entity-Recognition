{
 "cells": [
  {
   "cell_type": "markdown",
   "metadata": {},
   "source": [
    "## Open AI Test"
   ]
  },
  {
   "cell_type": "markdown",
   "metadata": {},
   "source": [
    "Try to use the OpenAI to parapharase the sentence."
   ]
  },
  {
   "cell_type": "code",
   "execution_count": null,
   "metadata": {},
   "outputs": [],
   "source": [
    "import os\n",
    "import openai\n",
    "from dotenv import load_dotenv\n",
    "\n",
    "load_dotenv()\n",
    "openai.api_key = os.getenv(\"OPENAI_API_KEY\")\n",
    "response = openai.Completion.create(\n",
    "  model=\"text-davinci-002\",\n",
    "  prompt=\"Paraphrase the following sentence: 2018 Association for Computational Linguistics1Privacy - preserving Neural Representations of.\",\n",
    "  temperature=0.7,\n",
    "  max_tokens=256,\n",
    "  top_p=1,\n",
    "  frequency_penalty=0,\n",
    "  presence_penalty=0\n",
    ")"
   ]
  },
  {
   "cell_type": "markdown",
   "metadata": {},
   "source": [
    "Print the result."
   ]
  },
  {
   "cell_type": "code",
   "execution_count": null,
   "metadata": {},
   "outputs": [],
   "source": [
    "print(response)"
   ]
  },
  {
   "cell_type": "markdown",
   "metadata": {},
   "source": [
    "Extract the text result from the json result."
   ]
  },
  {
   "cell_type": "code",
   "execution_count": null,
   "metadata": {},
   "outputs": [],
   "source": [
    "import json\n",
    "from openapi_schema_to_json_schema import to_json_schema\n",
    "response_json = to_json_schema(response)\n",
    "print(response_json.get(\"choices\")[0].get(\"text\").strip())"
   ]
  },
  {
   "cell_type": "markdown",
   "metadata": {},
   "source": [
    "## Final Driver"
   ]
  },
  {
   "cell_type": "code",
   "execution_count": 1,
   "metadata": {},
   "outputs": [],
   "source": [
    "import annotated_data_augmenter as adg\n",
    "ADG = adg.AnnotatedDataAug()"
   ]
  },
  {
   "cell_type": "markdown",
   "metadata": {},
   "source": [
    "Augment all the data lying in `Annotated_Data/annotated_paper`. The api rate limiter is configured as 30 requests / minutes, and the function will make sure we won't augment the file with same name twice."
   ]
  },
  {
   "cell_type": "code",
   "execution_count": 2,
   "metadata": {},
   "outputs": [
    {
     "name": "stdout",
     "output_type": "stream",
     "text": [
      "Already augemented files: {'aug_annotated_2018_emnlp_Privacy-preserving Neural Representations of Text.txt', 'aug_annotated_2022_acl_UniTranSeR A Unified Transformer Semantic Representation Framework for Multimodal Task-Oriented Dialog System.txt'}\n",
      "Total Augmented File Cnt: 0\n",
      "Augmenting aug_annotated_2022_acl_UniTranSeR A Unified Transformer Semantic Representation Framework for Multimodal Task-Oriented Dialog System.txt...\n",
      "Already Parsed, Skip the annotated paper annotated_2022_acl_UniTranSeR A Unified Transformer Semantic Representation Framework for Multimodal Task-Oriented Dialog System.txt\n",
      "Total Augmented File Cnt: 0\n",
      "Augmenting aug_.DS_Store...\n",
      "Paraphrase and relabelling from OpenAI...\n"
     ]
    },
    {
     "ename": "UnicodeDecodeError",
     "evalue": "'utf-8' codec can't decode byte 0xff in position 1208: invalid start byte",
     "output_type": "error",
     "traceback": [
      "\u001b[0;31m---------------------------------------------------------------------------\u001b[0m",
      "\u001b[0;31mUnicodeDecodeError\u001b[0m                        Traceback (most recent call last)",
      "Cell \u001b[0;32mIn [2], line 1\u001b[0m\n\u001b[0;32m----> 1\u001b[0m \u001b[43mADG\u001b[49m\u001b[38;5;241;43m.\u001b[39;49m\u001b[43mdata_aug\u001b[49m\u001b[43m(\u001b[49m\u001b[43m)\u001b[49m\n",
      "File \u001b[0;32m~/Desktop/2022_fall/nlp/End-to-End-Scientific-Entity-Recognition/annotated_data_augmenter.py:98\u001b[0m, in \u001b[0;36mAnnotatedDataAug.data_aug\u001b[0;34m(self, raw_dir, aug_dir)\u001b[0m\n\u001b[1;32m     95\u001b[0m     \u001b[39mcontinue\u001b[39;00m\n\u001b[1;32m     97\u001b[0m \u001b[39mprint\u001b[39m(\u001b[39mf\u001b[39m\u001b[39m\"\u001b[39m\u001b[39mParaphrase and relabelling from OpenAI...\u001b[39m\u001b[39m\"\u001b[39m)\n\u001b[0;32m---> 98\u001b[0m sentences, sentenceIdx_to_tokenLabelDict \u001b[39m=\u001b[39m \u001b[39mself\u001b[39;49m\u001b[39m.\u001b[39;49mrecover_and_label(raw_dir \u001b[39m+\u001b[39;49m file)\n\u001b[1;32m     99\u001b[0m paraphrased_result_lines \u001b[39m=\u001b[39m \u001b[39mself\u001b[39m\u001b[39m.\u001b[39mparapharase_and_relabel(sentences, sentenceIdx_to_tokenLabelDict)\n\u001b[1;32m    101\u001b[0m \u001b[39mprint\u001b[39m(\u001b[39mf\u001b[39m\u001b[39m\"\u001b[39m\u001b[39mWrite the result to file...\u001b[39m\u001b[39m\"\u001b[39m)\n",
      "File \u001b[0;32m~/Desktop/2022_fall/nlp/End-to-End-Scientific-Entity-Recognition/annotated_data_augmenter.py:38\u001b[0m, in \u001b[0;36mAnnotatedDataAug.recover_and_label\u001b[0;34m(self, annotated_tokenized_paper)\u001b[0m\n\u001b[1;32m     36\u001b[0m sentenceIdx_to_tokenLabelDict \u001b[39m=\u001b[39m {} \u001b[39m# map the index of the sentence to the corresponding token->label dict\u001b[39;00m\n\u001b[1;32m     37\u001b[0m \u001b[39mwith\u001b[39;00m \u001b[39mopen\u001b[39m(annotated_tokenized_paper) \u001b[39mas\u001b[39;00m f:\n\u001b[0;32m---> 38\u001b[0m     lines \u001b[39m=\u001b[39m f\u001b[39m.\u001b[39;49mreadlines()\n\u001b[1;32m     39\u001b[0m     \u001b[39m# cur maintainer\u001b[39;00m\n\u001b[1;32m     40\u001b[0m     cur_dict \u001b[39m=\u001b[39m {}\n",
      "File \u001b[0;32m~/miniforge3/envs/cmu-11711/lib/python3.8/codecs.py:322\u001b[0m, in \u001b[0;36mBufferedIncrementalDecoder.decode\u001b[0;34m(self, input, final)\u001b[0m\n\u001b[1;32m    319\u001b[0m \u001b[39mdef\u001b[39;00m \u001b[39mdecode\u001b[39m(\u001b[39mself\u001b[39m, \u001b[39minput\u001b[39m, final\u001b[39m=\u001b[39m\u001b[39mFalse\u001b[39;00m):\n\u001b[1;32m    320\u001b[0m     \u001b[39m# decode input (taking the buffer into account)\u001b[39;00m\n\u001b[1;32m    321\u001b[0m     data \u001b[39m=\u001b[39m \u001b[39mself\u001b[39m\u001b[39m.\u001b[39mbuffer \u001b[39m+\u001b[39m \u001b[39minput\u001b[39m\n\u001b[0;32m--> 322\u001b[0m     (result, consumed) \u001b[39m=\u001b[39m \u001b[39mself\u001b[39;49m\u001b[39m.\u001b[39;49m_buffer_decode(data, \u001b[39mself\u001b[39;49m\u001b[39m.\u001b[39;49merrors, final)\n\u001b[1;32m    323\u001b[0m     \u001b[39m# keep undecoded input until the next call\u001b[39;00m\n\u001b[1;32m    324\u001b[0m     \u001b[39mself\u001b[39m\u001b[39m.\u001b[39mbuffer \u001b[39m=\u001b[39m data[consumed:]\n",
      "\u001b[0;31mUnicodeDecodeError\u001b[0m: 'utf-8' codec can't decode byte 0xff in position 1208: invalid start byte"
     ]
    }
   ],
   "source": [
    "ADG.data_aug()"
   ]
  },
  {
   "cell_type": "markdown",
   "metadata": {},
   "source": []
  }
 ],
 "metadata": {
  "kernelspec": {
   "display_name": "Python 3.8.13 ('cmu-11711')",
   "language": "python",
   "name": "python3"
  },
  "language_info": {
   "codemirror_mode": {
    "name": "ipython",
    "version": 3
   },
   "file_extension": ".py",
   "mimetype": "text/x-python",
   "name": "python",
   "nbconvert_exporter": "python",
   "pygments_lexer": "ipython3",
   "version": "3.8.13"
  },
  "orig_nbformat": 4,
  "vscode": {
   "interpreter": {
    "hash": "b3cc27bd2b0cc244489d64415057549f3bf07f3859f5feb365772e94fdd42b37"
   }
  }
 },
 "nbformat": 4,
 "nbformat_minor": 2
}
