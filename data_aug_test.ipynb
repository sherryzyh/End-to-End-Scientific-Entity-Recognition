{
 "cells": [
  {
   "cell_type": "markdown",
   "metadata": {},
   "source": [
    "## Open AI Test"
   ]
  },
  {
   "cell_type": "markdown",
   "metadata": {},
   "source": [
    "Try to use the OpenAI to parapharase the sentence."
   ]
  },
  {
   "cell_type": "code",
   "execution_count": null,
   "metadata": {},
   "outputs": [
    {
     "ename": "",
     "evalue": "",
     "output_type": "error",
     "traceback": [
      "\u001b[1;31mRunning cells with 'Python ('cmu-11711')' requires ipykernel package.\n",
      "\u001b[1;31mRun the following command to install 'ipykernel' into the Python environment. \n",
      "\u001b[1;31mCommand: 'conda install -n cmu-11711 ipykernel --update-deps --force-reinstall'"
     ]
    }
   ],
   "source": [
    "import os\n",
    "import openai\n",
    "from dotenv import load_dotenv\n",
    "\n",
    "load_dotenv()\n",
    "openai.api_key = os.getenv(\"OPENAI_API_KEY\")\n",
    "response = openai.Completion.create(\n",
    "  model=\"text-davinci-002\",\n",
    "  prompt=\"Paraphrase the following sentence: 2018 Association for Computational Linguistics1Privacy - preserving Neural Representations of.\",\n",
    "  temperature=0.7,\n",
    "  max_tokens=256,\n",
    "  top_p=1,\n",
    "  frequency_penalty=0,\n",
    "  presence_penalty=0\n",
    ")"
   ]
  },
  {
   "cell_type": "markdown",
   "metadata": {},
   "source": [
    "Print the result."
   ]
  },
  {
   "cell_type": "code",
   "execution_count": 3,
   "metadata": {},
   "outputs": [
    {
     "name": "stdout",
     "output_type": "stream",
     "text": [
      "{\n",
      "  \"choices\": [\n",
      "    {\n",
      "      \"finish_reason\": \"stop\",\n",
      "      \"index\": 0,\n",
      "      \"logprobs\": null,\n",
      "      \"text\": \"\\n\\nThe 2018 Association for Computational Linguistics1Privacy is committed to preserving neural representations of data.\"\n",
      "    }\n",
      "  ],\n",
      "  \"created\": 1666159249,\n",
      "  \"id\": \"cmpl-62wQDD518nLMjRJaH2Np7fXBA8uHY\",\n",
      "  \"model\": \"text-davinci-002\",\n",
      "  \"object\": \"text_completion\",\n",
      "  \"usage\": {\n",
      "    \"completion_tokens\": 22,\n",
      "    \"prompt_tokens\": 24,\n",
      "    \"total_tokens\": 46\n",
      "  }\n",
      "}\n"
     ]
    }
   ],
   "source": [
    "print(response)"
   ]
  },
  {
   "cell_type": "markdown",
   "metadata": {},
   "source": [
    "Extract the text result from the json result."
   ]
  },
  {
   "cell_type": "code",
   "execution_count": 4,
   "metadata": {},
   "outputs": [
    {
     "ename": "ModuleNotFoundError",
     "evalue": "No module named 'openapi_schema_to_json_schema'",
     "output_type": "error",
     "traceback": [
      "\u001b[0;31m---------------------------------------------------------------------------\u001b[0m",
      "\u001b[0;31mModuleNotFoundError\u001b[0m                       Traceback (most recent call last)",
      "\u001b[1;32m/Users/yennifer/Desktop/2022_fall/nlp/End-to-End-Scientific-Entity-Recognition/data_aug_test.ipynb Cell 7\u001b[0m in \u001b[0;36m<cell line: 2>\u001b[0;34m()\u001b[0m\n\u001b[1;32m      <a href='vscode-notebook-cell:/Users/yennifer/Desktop/2022_fall/nlp/End-to-End-Scientific-Entity-Recognition/data_aug_test.ipynb#W6sZmlsZQ%3D%3D?line=0'>1</a>\u001b[0m \u001b[39mimport\u001b[39;00m \u001b[39mjson\u001b[39;00m\n\u001b[0;32m----> <a href='vscode-notebook-cell:/Users/yennifer/Desktop/2022_fall/nlp/End-to-End-Scientific-Entity-Recognition/data_aug_test.ipynb#W6sZmlsZQ%3D%3D?line=1'>2</a>\u001b[0m \u001b[39mfrom\u001b[39;00m \u001b[39mopenapi_schema_to_json_schema\u001b[39;00m \u001b[39mimport\u001b[39;00m to_json_schema\n\u001b[1;32m      <a href='vscode-notebook-cell:/Users/yennifer/Desktop/2022_fall/nlp/End-to-End-Scientific-Entity-Recognition/data_aug_test.ipynb#W6sZmlsZQ%3D%3D?line=2'>3</a>\u001b[0m response_json \u001b[39m=\u001b[39m to_json_schema(response)\n\u001b[1;32m      <a href='vscode-notebook-cell:/Users/yennifer/Desktop/2022_fall/nlp/End-to-End-Scientific-Entity-Recognition/data_aug_test.ipynb#W6sZmlsZQ%3D%3D?line=3'>4</a>\u001b[0m \u001b[39mprint\u001b[39m(response_json\u001b[39m.\u001b[39mget(\u001b[39m\"\u001b[39m\u001b[39mchoices\u001b[39m\u001b[39m\"\u001b[39m)[\u001b[39m0\u001b[39m]\u001b[39m.\u001b[39mget(\u001b[39m\"\u001b[39m\u001b[39mtext\u001b[39m\u001b[39m\"\u001b[39m)\u001b[39m.\u001b[39mstrip())\n",
      "\u001b[0;31mModuleNotFoundError\u001b[0m: No module named 'openapi_schema_to_json_schema'"
     ]
    }
   ],
   "source": [
    "import json\n",
    "from openapi_schema_to_json_schema import to_json_schema\n",
    "response_json = to_json_schema(response)\n",
    "print(response_json.get(\"choices\")[0].get(\"text\").strip())"
   ]
  },
  {
   "cell_type": "markdown",
   "metadata": {},
   "source": [
    "## Final Driver"
   ]
  },
  {
   "cell_type": "code",
   "execution_count": null,
   "metadata": {},
   "outputs": [],
   "source": [
    "import annotated_data_augmenter as adg\n",
    "ADG = adg.AnnotatedDataAug()"
   ]
  },
  {
   "cell_type": "markdown",
   "metadata": {},
   "source": [
    "Augment all the data lying in `Annotated_Data/annotated_paper`. The api rate limiter is configured as 30 requests / minutes, and the function will make sure we won't augment the file with same name twice."
   ]
  },
  {
   "cell_type": "code",
   "execution_count": null,
   "metadata": {},
   "outputs": [],
   "source": [
    "ADG.data_aug()"
   ]
  }
 ],
 "metadata": {
  "kernelspec": {
   "display_name": "Python ('cmu-11711')",
   "language": "python",
   "name": "python3"
  },
  "language_info": {
   "codemirror_mode": {
    "name": "ipython",
    "version": 3
   },
   "file_extension": ".py",
   "mimetype": "text/x-python",
   "name": "python",
   "nbconvert_exporter": "python",
   "pygments_lexer": "ipython3",
   "version": ""
  },
  "orig_nbformat": 4,
  "vscode": {
   "interpreter": {
    "hash": "25a19fbe0a9132dfb9279d48d161753c6352f8f9478c2e74383d340069b907c3"
   }
  }
 },
 "nbformat": 4,
 "nbformat_minor": 2
}
